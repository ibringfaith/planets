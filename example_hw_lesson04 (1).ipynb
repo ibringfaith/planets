{
 "cells": [
  {
   "cell_type": "markdown",
   "metadata": {},
   "source": [
    "# Homework #4: EXAMPLE SUBMISSION \n",
    "\n",
    "Name: Faith Best\n",
    "\n",
    "### Part 1\n",
    "* Identify a dataset to explore.  \n",
    "  * Check out sources like data.world, data.illinois.gov, data.gov, developer.marvel.com, IDB, etc.\n",
    "* Summarize the characteristics of the dataset in words:  Include the following specific details about your dataset:\n",
    "    * What is the \"name\" of the dataset? What does it represent, what are the fields/columns/rows, what data types are they, etc.\n",
    "    * Where did you obtain it?\n",
    "    * Where can we obtain it? (i.e., URL)\n",
    "    * What is the \"license\" of the dataset? What are we allowed to do with it?\n",
    "    * How big is it in file size and in items (rows & columns)?\n",
    "* Make sure you \"submit\" your dataset by either:\n",
    "    * Uploading the dataset with your notebook\n",
    "    * Using an URL to read in your dataset with Pandas"
   ]
  },
  {
   "cell_type": "markdown",
   "metadata": {},
   "source": [
    "The \"name\" of the dataset is USA Hospital Beds Capacity For Covid-19. The data represents the number of hospital beds available in each county. The columns show the number of beds per 1000 inhabitants, the population of the county, the year, the type of beds, and the location. The location of the area includes the county, the state in the USA, and the coordinates in longitude and latitude. I obtained this dataset from https://www.kaggle.com/ikiulian/global-hospital-beds-capacity-for-covid19 and the \"license\" of the dataset is CC0: Public Domain. This means that we are allowed to do whatever we want to do with it. The dataset contains 5713 rows and 12 columns. The file size is 535.7+ kB."
   ]
  },
  {
   "cell_type": "code",
   "execution_count": 31,
   "metadata": {},
   "outputs": [],
   "source": [
    "import numpy as np\n",
    "import pandas as pd\n",
    "import matplotlib.pyplot as plt"
   ]
  },
  {
   "cell_type": "code",
   "execution_count": 32,
   "metadata": {},
   "outputs": [],
   "source": [
    "bed=pd.read_csv('hospital_beds_USA_v1.csv')"
   ]
  },
  {
   "cell_type": "code",
   "execution_count": 33,
   "metadata": {},
   "outputs": [
    {
     "data": {
      "text/html": [
       "<div>\n",
       "<style scoped>\n",
       "    .dataframe tbody tr th:only-of-type {\n",
       "        vertical-align: middle;\n",
       "    }\n",
       "\n",
       "    .dataframe tbody tr th {\n",
       "        vertical-align: top;\n",
       "    }\n",
       "\n",
       "    .dataframe thead th {\n",
       "        text-align: right;\n",
       "    }\n",
       "</style>\n",
       "<table border=\"1\" class=\"dataframe\">\n",
       "  <thead>\n",
       "    <tr style=\"text-align: right;\">\n",
       "      <th></th>\n",
       "      <th>country</th>\n",
       "      <th>state</th>\n",
       "      <th>county</th>\n",
       "      <th>lat</th>\n",
       "      <th>lng</th>\n",
       "      <th>type</th>\n",
       "      <th>measure</th>\n",
       "      <th>beds</th>\n",
       "      <th>population</th>\n",
       "      <th>year</th>\n",
       "      <th>source</th>\n",
       "      <th>source_url</th>\n",
       "    </tr>\n",
       "  </thead>\n",
       "  <tbody>\n",
       "    <tr>\n",
       "      <th>0</th>\n",
       "      <td>US</td>\n",
       "      <td>AK</td>\n",
       "      <td>aleutians east</td>\n",
       "      <td>63.588753</td>\n",
       "      <td>-154.493062</td>\n",
       "      <td>ICU</td>\n",
       "      <td>1000HAB</td>\n",
       "      <td>0.000000</td>\n",
       "      <td>3338</td>\n",
       "      <td>2019</td>\n",
       "      <td>khn</td>\n",
       "      <td>https://khn.org/news/as-coronavirus-spreads-wi...</td>\n",
       "    </tr>\n",
       "    <tr>\n",
       "      <th>1</th>\n",
       "      <td>US</td>\n",
       "      <td>AK</td>\n",
       "      <td>aleutians west</td>\n",
       "      <td>63.588753</td>\n",
       "      <td>-154.493062</td>\n",
       "      <td>ICU</td>\n",
       "      <td>1000HAB</td>\n",
       "      <td>0.000000</td>\n",
       "      <td>5784</td>\n",
       "      <td>2019</td>\n",
       "      <td>khn</td>\n",
       "      <td>https://khn.org/news/as-coronavirus-spreads-wi...</td>\n",
       "    </tr>\n",
       "    <tr>\n",
       "      <th>2</th>\n",
       "      <td>US</td>\n",
       "      <td>AK</td>\n",
       "      <td>anchorage</td>\n",
       "      <td>63.588753</td>\n",
       "      <td>-154.493062</td>\n",
       "      <td>ACUTE</td>\n",
       "      <td>1000HAB</td>\n",
       "      <td>2.182916</td>\n",
       "      <td>298225</td>\n",
       "      <td>2018</td>\n",
       "      <td>arcgis</td>\n",
       "      <td>https://services1.arcgis.com/Hp6G80Pky0om7QvQ/...</td>\n",
       "    </tr>\n",
       "    <tr>\n",
       "      <th>3</th>\n",
       "      <td>US</td>\n",
       "      <td>AK</td>\n",
       "      <td>anchorage</td>\n",
       "      <td>63.588753</td>\n",
       "      <td>-154.493062</td>\n",
       "      <td>ICU</td>\n",
       "      <td>1000HAB</td>\n",
       "      <td>0.244782</td>\n",
       "      <td>298225</td>\n",
       "      <td>2019</td>\n",
       "      <td>khn</td>\n",
       "      <td>https://khn.org/news/as-coronavirus-spreads-wi...</td>\n",
       "    </tr>\n",
       "    <tr>\n",
       "      <th>4</th>\n",
       "      <td>US</td>\n",
       "      <td>AK</td>\n",
       "      <td>anchorage</td>\n",
       "      <td>63.588753</td>\n",
       "      <td>-154.493062</td>\n",
       "      <td>OTHER</td>\n",
       "      <td>1000HAB</td>\n",
       "      <td>0.191131</td>\n",
       "      <td>298225</td>\n",
       "      <td>2019</td>\n",
       "      <td>arcgis</td>\n",
       "      <td>https://services1.arcgis.com/Hp6G80Pky0om7QvQ/...</td>\n",
       "    </tr>\n",
       "    <tr>\n",
       "      <th>...</th>\n",
       "      <td>...</td>\n",
       "      <td>...</td>\n",
       "      <td>...</td>\n",
       "      <td>...</td>\n",
       "      <td>...</td>\n",
       "      <td>...</td>\n",
       "      <td>...</td>\n",
       "      <td>...</td>\n",
       "      <td>...</td>\n",
       "      <td>...</td>\n",
       "      <td>...</td>\n",
       "      <td>...</td>\n",
       "    </tr>\n",
       "    <tr>\n",
       "      <th>5708</th>\n",
       "      <td>US</td>\n",
       "      <td>WY</td>\n",
       "      <td>uinta</td>\n",
       "      <td>43.075968</td>\n",
       "      <td>-107.290284</td>\n",
       "      <td>ACUTE</td>\n",
       "      <td>1000HAB</td>\n",
       "      <td>2.023316</td>\n",
       "      <td>20758</td>\n",
       "      <td>2018</td>\n",
       "      <td>arcgis</td>\n",
       "      <td>https://services1.arcgis.com/Hp6G80Pky0om7QvQ/...</td>\n",
       "    </tr>\n",
       "    <tr>\n",
       "      <th>5709</th>\n",
       "      <td>US</td>\n",
       "      <td>WY</td>\n",
       "      <td>uinta</td>\n",
       "      <td>43.075968</td>\n",
       "      <td>-107.290284</td>\n",
       "      <td>ICU</td>\n",
       "      <td>1000HAB</td>\n",
       "      <td>0.289045</td>\n",
       "      <td>20758</td>\n",
       "      <td>2019</td>\n",
       "      <td>khn</td>\n",
       "      <td>https://khn.org/news/as-coronavirus-spreads-wi...</td>\n",
       "    </tr>\n",
       "    <tr>\n",
       "      <th>5710</th>\n",
       "      <td>US</td>\n",
       "      <td>WY</td>\n",
       "      <td>uinta</td>\n",
       "      <td>43.075968</td>\n",
       "      <td>-107.290284</td>\n",
       "      <td>PSYCHIATRIC</td>\n",
       "      <td>1000HAB</td>\n",
       "      <td>8.815878</td>\n",
       "      <td>20758</td>\n",
       "      <td>2018</td>\n",
       "      <td>arcgis</td>\n",
       "      <td>https://services1.arcgis.com/Hp6G80Pky0om7QvQ/...</td>\n",
       "    </tr>\n",
       "    <tr>\n",
       "      <th>5711</th>\n",
       "      <td>US</td>\n",
       "      <td>WY</td>\n",
       "      <td>washakie</td>\n",
       "      <td>43.075968</td>\n",
       "      <td>-107.290284</td>\n",
       "      <td>ICU</td>\n",
       "      <td>1000HAB</td>\n",
       "      <td>2.181025</td>\n",
       "      <td>8253</td>\n",
       "      <td>2018</td>\n",
       "      <td>arcgis</td>\n",
       "      <td>https://services1.arcgis.com/Hp6G80Pky0om7QvQ/...</td>\n",
       "    </tr>\n",
       "    <tr>\n",
       "      <th>5712</th>\n",
       "      <td>US</td>\n",
       "      <td>WY</td>\n",
       "      <td>weston</td>\n",
       "      <td>43.075968</td>\n",
       "      <td>-107.290284</td>\n",
       "      <td>ICU</td>\n",
       "      <td>1000HAB</td>\n",
       "      <td>1.686104</td>\n",
       "      <td>7117</td>\n",
       "      <td>2018</td>\n",
       "      <td>arcgis</td>\n",
       "      <td>https://services1.arcgis.com/Hp6G80Pky0om7QvQ/...</td>\n",
       "    </tr>\n",
       "  </tbody>\n",
       "</table>\n",
       "<p>5713 rows × 12 columns</p>\n",
       "</div>"
      ],
      "text/plain": [
       "     country state          county        lat         lng         type  \\\n",
       "0         US    AK  aleutians east  63.588753 -154.493062          ICU   \n",
       "1         US    AK  aleutians west  63.588753 -154.493062          ICU   \n",
       "2         US    AK       anchorage  63.588753 -154.493062        ACUTE   \n",
       "3         US    AK       anchorage  63.588753 -154.493062          ICU   \n",
       "4         US    AK       anchorage  63.588753 -154.493062        OTHER   \n",
       "...      ...   ...             ...        ...         ...          ...   \n",
       "5708      US    WY           uinta  43.075968 -107.290284        ACUTE   \n",
       "5709      US    WY           uinta  43.075968 -107.290284          ICU   \n",
       "5710      US    WY           uinta  43.075968 -107.290284  PSYCHIATRIC   \n",
       "5711      US    WY        washakie  43.075968 -107.290284          ICU   \n",
       "5712      US    WY          weston  43.075968 -107.290284          ICU   \n",
       "\n",
       "      measure      beds  population  year  source  \\\n",
       "0     1000HAB  0.000000        3338  2019     khn   \n",
       "1     1000HAB  0.000000        5784  2019     khn   \n",
       "2     1000HAB  2.182916      298225  2018  arcgis   \n",
       "3     1000HAB  0.244782      298225  2019     khn   \n",
       "4     1000HAB  0.191131      298225  2019  arcgis   \n",
       "...       ...       ...         ...   ...     ...   \n",
       "5708  1000HAB  2.023316       20758  2018  arcgis   \n",
       "5709  1000HAB  0.289045       20758  2019     khn   \n",
       "5710  1000HAB  8.815878       20758  2018  arcgis   \n",
       "5711  1000HAB  2.181025        8253  2018  arcgis   \n",
       "5712  1000HAB  1.686104        7117  2018  arcgis   \n",
       "\n",
       "                                             source_url  \n",
       "0     https://khn.org/news/as-coronavirus-spreads-wi...  \n",
       "1     https://khn.org/news/as-coronavirus-spreads-wi...  \n",
       "2     https://services1.arcgis.com/Hp6G80Pky0om7QvQ/...  \n",
       "3     https://khn.org/news/as-coronavirus-spreads-wi...  \n",
       "4     https://services1.arcgis.com/Hp6G80Pky0om7QvQ/...  \n",
       "...                                                 ...  \n",
       "5708  https://services1.arcgis.com/Hp6G80Pky0om7QvQ/...  \n",
       "5709  https://khn.org/news/as-coronavirus-spreads-wi...  \n",
       "5710  https://services1.arcgis.com/Hp6G80Pky0om7QvQ/...  \n",
       "5711  https://services1.arcgis.com/Hp6G80Pky0om7QvQ/...  \n",
       "5712  https://services1.arcgis.com/Hp6G80Pky0om7QvQ/...  \n",
       "\n",
       "[5713 rows x 12 columns]"
      ]
     },
     "execution_count": 33,
     "metadata": {},
     "output_type": "execute_result"
    }
   ],
   "source": [
    "bed"
   ]
  },
  {
   "cell_type": "code",
   "execution_count": 34,
   "metadata": {
    "scrolled": true
   },
   "outputs": [
    {
     "name": "stdout",
     "output_type": "stream",
     "text": [
      "<class 'pandas.core.frame.DataFrame'>\n",
      "RangeIndex: 5713 entries, 0 to 5712\n",
      "Data columns (total 12 columns):\n",
      " #   Column      Non-Null Count  Dtype  \n",
      "---  ------      --------------  -----  \n",
      " 0   country     5713 non-null   object \n",
      " 1   state       5713 non-null   object \n",
      " 2   county      5713 non-null   object \n",
      " 3   lat         5713 non-null   float64\n",
      " 4   lng         5713 non-null   float64\n",
      " 5   type        5713 non-null   object \n",
      " 6   measure     5713 non-null   object \n",
      " 7   beds        5713 non-null   float64\n",
      " 8   population  5713 non-null   int64  \n",
      " 9   year        5713 non-null   int64  \n",
      " 10  source      5713 non-null   object \n",
      " 11  source_url  5713 non-null   object \n",
      "dtypes: float64(3), int64(2), object(7)\n",
      "memory usage: 535.7+ KB\n"
     ]
    }
   ],
   "source": [
    "bed.info()"
   ]
  },
  {
   "cell_type": "markdown",
   "metadata": {},
   "source": [
    "### Part 2\n",
    "\n",
    "Make 1-5 plots that describe your dataset.  Spend some time thinking about how these plots will aid you in \"telling a story\" with your data (see description of part 3).  You can use any Python plotting library of your choice (we have so far just covered matplotlib but you are free to use others if you'd like!).\n",
    "\n",
    "Feel free to include things you tried and didn't \"work\" the way you thought they should!  This will allow us to give you credit even if you don't get the perfect plots you were working towards."
   ]
  },
  {
   "cell_type": "code",
   "execution_count": 35,
   "metadata": {},
   "outputs": [
    {
     "data": {
      "image/png": "[encoded data removed]",
      "text/plain": [
       "<Figure size 432x288 with 1 Axes>"
      ]
     },
     "metadata": {
      "needs_background": "light"
     },
     "output_type": "display_data"
    }
   ],
   "source": [
    "bed.plot(y='beds',kind='hist') #summarizes Number of beds per 1000 inhabitants, only plotting 1 variable (y)\n",
    "plt.xlabel('Number of beds per 1000 inhabitants')\n",
    "plt.ylabel('Frequency')\n",
    "plt.show()"
   ]
  },
  {
   "cell_type": "code",
   "execution_count": 36,
   "metadata": {},
   "outputs": [
    {
     "data": {
      "image/png": "[encoded data removed]",
      "text/plain": [
       "<Figure size 1440x360 with 1 Axes>"
      ]
     },
     "metadata": {
      "needs_background": "light"
     },
     "output_type": "display_data"
    }
   ],
   "source": [
    "fig, ax = plt.subplots(nrows=1,ncols=1,figsize=(20,5))\n",
    "plt.plot(beds['state'],beds['beds'],'o')\n",
    "plt.xlabel('state')\n",
    "plt.ylabel('Number of beds per 1000 inhabitants')\n",
    "plt.show()"
   ]
  },
  {
   "cell_type": "markdown",
   "metadata": {},
   "source": [
    "### Part 3\n",
    "\n",
    "Using the plots you generated in Part 2, tell the \"story\" of your data or one aspect of your data in 1-5 paragraphs -- what did you learn about your dataset?  What do you want your viewer to learn through your plots?\n",
    "\n",
    "Be sure to include some ideas about:\n",
    "* How data collection might have biased the results that you show\n",
    "* What choices you made in your plotting methods (line plot/bar plot) or color schemes, data labels, etc "
   ]
  },
  {
   "cell_type": "markdown",
   "metadata": {},
   "source": [
    "My data shows the distribution of the number of beds per 1000 inhabitants. The first plot shows the distribution overall while the second plot shows the distribution in each of the 50 states. Many of the states have between 0 to 10 beds for every 1000 inhabitants. Only around 5 states have counties with 20 or more hospital beds for every 1000 inhabitants. Since I wanted to show distributions I chose a histogram. For my second plot, since I wanted to include two variables (states and beds) I chose to do a scatterplot since it will still be able to show the overall trend for each state and the distribution for the number of beds. The scatterplot shows that Kansas and Montana consistently have more beds for every 1000 inhabitants. The data collection might have biased the results that I show in that the data is from different years. For example, some are from 2019 and others are from 2018. The population of the counties most likely changed so comparisons between the states and counties and looking for the distribution is not exactly accurate since the data is not aligned."
   ]
  }
 ],
 "metadata": {
  "kernelspec": {
   "display_name": "Python 3",
   "language": "python",
   "name": "python3"
  },
  "language_info": {
   "codemirror_mode": {
    "name": "ipython",
    "version": 3
   },
   "file_extension": ".py",
   "mimetype": "text/x-python",
   "name": "python",
   "nbconvert_exporter": "python",
   "pygments_lexer": "ipython3",
   "version": "3.7.6"
  }
 },
 "nbformat": 4,
 "nbformat_minor": 2
}
