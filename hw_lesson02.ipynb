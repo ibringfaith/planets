{
 "cells": [
  {
   "cell_type": "markdown",
   "metadata": {},
   "source": [
    "# Homework #2\n",
    "\n",
    "Name: Faith Best"
   ]
  },
  {
   "cell_type": "markdown",
   "metadata": {},
   "source": [
    "## Question 1: \n",
    "Define a variable that will be a natural number, greater than 0, that you can change. Create a for-loop that prints out the sum of the natural numbers up to this variable.  Make sure you check this a few times with a sum \"by-hand\".  For example, if you're input is 10 then your output should be: 0+1+2+3+4+5+6+7+8+9+10 = 55\n",
    "\n",
    "Note: \"natural number\" means no fractions/decimals."
   ]
  },
  {
   "cell_type": "code",
   "execution_count": 80,
   "metadata": {},
   "outputs": [],
   "source": [
    "variable = 11 # your user can change this number\n",
    "\n",
    "mySum = 0 # start off with a zero sum, and then add to this with your for-loop"
   ]
  },
  {
   "cell_type": "code",
   "execution_count": 81,
   "metadata": {},
   "outputs": [
    {
     "name": "stdout",
     "output_type": "stream",
     "text": [
      "66\n"
     ]
    }
   ],
   "source": [
    "for letters in range(variable+1):\n",
    "    mySum=mySum+letters\n",
    "print(mySum)"
   ]
  },
  {
   "cell_type": "markdown",
   "metadata": {},
   "source": [
    "## Question 2:\n",
    "\n",
    "Define a variable that is a temperature in either Celcius or Fahrenheit as a string that includes the numerical value of the temperature and either a \"C\" or an \"F\".\n",
    "\n",
    "If the temperature is in Fahrenheit, convert it to Celcius.  If it isn't either, print out a warning message.\n",
    "\n",
    "You will probably want to do an explicit type conversion at some point between your sliced input string and a number:"
   ]
  },
  {
   "cell_type": "code",
   "execution_count": 18,
   "metadata": {},
   "outputs": [
    {
     "data": {
      "text/plain": [
       "66.7"
      ]
     },
     "execution_count": 18,
     "metadata": {},
     "output_type": "execute_result"
    }
   ],
   "source": [
    "float('66.7')"
   ]
  },
  {
   "cell_type": "code",
   "execution_count": 111,
   "metadata": {},
   "outputs": [
    {
     "name": "stdout",
     "output_type": "stream",
     "text": [
      "the temperature is -8.88888888888889 C\n"
     ]
    }
   ],
   "source": [
    "temp = '16F'\n",
    "if 'C'in temp:\n",
    "    print('the temperature is', temp)\n",
    "elif 'F' in temp:\n",
    "    print('the temperature is', (float(temp[:-1]) - 32)*(5/9), 'C')\n",
    "else:\n",
    "    print('ERROR: not Celcius or Fahrenheit')\n",
    "# your code here"
   ]
  },
  {
   "cell_type": "markdown",
   "metadata": {},
   "source": [
    "Some examples you can try are:\n",
    "\n",
    "```python\n",
    "temp = '15C' \n",
    "```\n",
    "should print out something like:\n",
    "\n",
    "`the temperature is 15C`\n",
    "\n",
    "and\n",
    "\n",
    "```python\n",
    "temp = '15F'\n",
    "```\n",
    "should print out\n",
    "\n",
    "`the temperature is -9.44444C`\n",
    "\n",
    "and\n",
    "\n",
    "```python\n",
    "temp = '15B'\n",
    "```\n",
    "should print out\n",
    "\n",
    "`ERROR: not Celcius or Fahrenheit!`\n",
    "\n",
    "Note, you can choose a bit how word what gets printed out!"
   ]
  },
  {
   "cell_type": "markdown",
   "metadata": {},
   "source": [
    "## Question 3:\n",
    "Building upon question 2 for a list of temperatures to convert and print out each of their conversions."
   ]
  },
  {
   "cell_type": "code",
   "execution_count": 161,
   "metadata": {},
   "outputs": [
    {
     "name": "stdout",
     "output_type": "stream",
     "text": [
      "the input temperature of 15C is 15C\n",
      "the input temperature of -10.0 C\n",
      "the input temperature of 18.88888888888889 C\n"
     ]
    }
   ],
   "source": [
    "temperatureList = ['15C', '14F', '66F']\n",
    "if 'C'in temperatureList[0]:\n",
    "    print('the input temperature of', temperatureList[0], 'is', temperatureList[0])\n",
    "    if 'F' in temperatureList[1]:\n",
    "        temp=temperatureList[1]\n",
    "        print('the input temperature of', (float(temp[:-1]) - 32)*(5/9),'C')\n",
    "        if 'F' in temperatureList[2]:\n",
    "            temp=temperatureList[2]\n",
    "            print('the input temperature of', (float(temp[:-1]) - 32)*(5/9),'C')\n",
    "        elif 'C' in temperatureList[2]:\n",
    "            print('the input temperature of', temperatureList[2], 'is', temperatureList[2])\n",
    "        else:\n",
    "            print('ERROR: not Celcius or Fahrenheit')\n",
    "    elif 'C' in temperatureList[1]:\n",
    "        print ('the input temperature of', temperatureList[1], 'is', temperatureList[1])\n",
    "        if 'C' in temperatureList[2]:\n",
    "            print ('the input temperature of', temperatureList[2], 'is', temperatureList[2])\n",
    "        elif 'F' in temperatureList[2]:\n",
    "            temp=temperatureList[2]\n",
    "            print('the input temperature of', (float(temp[:-1]) - 32)*(5/9),'C')\n",
    "        else:\n",
    "            print('ERROR: not Celcius or Fahrenheit')\n",
    "    else:\n",
    "        print('ERROR: not Celcius or Fahrenheit')\n",
    "        if 'C' in temperatureList[2]:\n",
    "            print ('the input temperature of', temperatureList[2], 'is', temperatureList[2])\n",
    "        elif 'F' in temperatureList[2]:\n",
    "            temp=temperatureList[2]\n",
    "            print('the input temperature of', (float(temp[:-1]) - 32)*(5/9),'C')\n",
    "        else:\n",
    "            print('ERROR: not Celcius or Fahrenheit')\n",
    "elif 'F' in temperatureList[0]:\n",
    "    temp = temperatureList[0]\n",
    "    print('the input temperature of', (float(temp[:-1]) - 32)*(5/9),'C')\n",
    "    if 'C' in temperatureList[1]:\n",
    "        print('the input temperature of', temperatureList[1], 'is', temperatureList[1])\n",
    "        if 'C' in temperatureList[2]:\n",
    "            print('the input temperature of', temperatureList[2], 'is', temperatureList[2])\n",
    "        elif 'F' in temperatureList[2]:\n",
    "            temp = temperatureList[2]\n",
    "            print('the input temperature of', (float(temp[:-1]) - 32)*(5/9),'C')\n",
    "        else:\n",
    "            print('ERROR: not Celcius or Fahrenheit')\n",
    "    elif 'F' in temperatureList[1]:\n",
    "        temp = temperatureList[1]\n",
    "        print('the input temperature of', (float(temp[:-1]) - 32)*(5/9),'C')\n",
    "        if 'C' in temperatureList[2]:\n",
    "            print('the input temperature of', temperatureList[2], 'is', temperatureList[2])\n",
    "        elif 'F' in temperatureList[2]:\n",
    "            temp = temperatureList[2]\n",
    "            print('the input temperature of', (float(temp[:-1]) - 32)*(5/9),'C')\n",
    "        else:\n",
    "            print('ERROR: not Celcius or Fahrenheit')\n",
    "    else:\n",
    "        print('ERROR: not Celcius or Fahrenheit')\n",
    "        if 'C' in temperatureList[2]:\n",
    "            print('the input temperature of', temperatureList[2], 'is', temperatureList[2])\n",
    "        elif 'F' in temperatureList[2]:\n",
    "            temp = temperatureList[2]\n",
    "            print('the input temperature of', (float(temp[:-1]) - 32)*(5/9),'C')\n",
    "        else:\n",
    "            print('ERROR: not Celcius or Fahrenheit')\n",
    "else:\n",
    "    print('ERROR: not Celcius or Fahrenheit')\n",
    "    if 'C' in temperatureList[1]:\n",
    "        print('the input temperature of', temperatureList[1], 'is', temperatureList[1])\n",
    "        if 'C' in temperatureList[2]:\n",
    "            print('the input temperature of', temperatureList[2], 'is', temperatureList[2])\n",
    "        elif 'F' in temperatureList[2]:\n",
    "            temp = temperatureList[2]\n",
    "            print('the input temperature of', (float(temp[:-1]) - 32)*(5/9),'C')\n",
    "        else:\n",
    "            print('ERROR: not Celcius or Fahrenheit')\n",
    "    elif 'F' in temperatureList[1]:\n",
    "        temp = temperatureList[1]\n",
    "        print('the input temperature of', (float(temp[:-1]) - 32)*(5/9),'C')\n",
    "        if 'C' in temperatureList[2]:\n",
    "            print('the input temperature of', temperatureList[2], 'is', temperatureList[2])\n",
    "        elif 'F' in temperatureList[2]:\n",
    "            temp = temperatureList[2]\n",
    "            print('the input temperature of', (float(temp[:-1]) - 32)*(5/9),'C')\n",
    "        else:\n",
    "            print('ERROR: not Celcius or Fahrenheit')\n",
    "    else:\n",
    "        print('ERROR: not Celcius or Fahrenheit')\n",
    "        if 'C' in temperatureList[2]:\n",
    "            print('the input temperature of', temperatureList[2], 'is', temperatureList[2])\n",
    "        if 'F' in temperatureList[2]:\n",
    "            temp=temperatureList[2]\n",
    "            print('the input temperature of', (float(temp[:-1]) - 32)*(5/9),'C')\n",
    "        else:\n",
    "            print('ERROR: not Celcius or Fahrenheit')\n",
    "    \n",
    "# your conversion code goes here"
   ]
  },
  {
   "cell_type": "markdown",
   "metadata": {},
   "source": [
    "For example:\n",
    "```python\n",
    "temperatureList = ['15C', '14F', '66F']\n",
    "```\n",
    "should print out something like:\n",
    "\n",
    "`the input temperature of 15C is 15C`\n",
    "\n",
    "`the input temperature of 14F is -10C`\n",
    "\n",
    "`the input temperature of 66F is 18.8889C`\n",
    "\n",
    "Don't forget to check for temperature formatting errors like in question 2!\n"
   ]
  },
  {
   "cell_type": "markdown",
   "metadata": {},
   "source": [
    "## Question 4:\n",
    "\n",
    "This question will require you to look up indexing in NumPy arrays.  What will you search for (Google/other search engine) to find what you need?  You can also ask the instructor for suggestions -- this is a totally fine way to solve this problem!\n",
    "\n",
    "\n",
    "Loop through the 3rd dimension of the \"y\" array below and plot it with respect to x:"
   ]
  },
  {
   "cell_type": "code",
   "execution_count": 2,
   "metadata": {},
   "outputs": [],
   "source": [
    "import numpy as np\n",
    "import matplotlib.pyplot as plt\n",
    "\n",
    "# how many x-values do we want?\n",
    "numX = 10\n",
    "\n",
    "x = np.arange(numX) # this makes an array of ints from 0-10\n",
    "\n",
    "# how many lines do we want in our plot?\n",
    "numLines = 5\n",
    "\n",
    "y = np.random.randint(0,100,size=[numX,numLines]) # pulls ints in range 0-100"
   ]
  },
  {
   "cell_type": "code",
   "execution_count": 3,
   "metadata": {},
   "outputs": [
    {
     "data": {
      "text/plain": [
       "array([0, 1, 2, 3, 4, 5, 6, 7, 8, 9])"
      ]
     },
     "execution_count": 3,
     "metadata": {},
     "output_type": "execute_result"
    }
   ],
   "source": [
    "x"
   ]
  },
  {
   "cell_type": "code",
   "execution_count": 11,
   "metadata": {},
   "outputs": [],
   "source": [
    "y3=[64,68,84,91,1,31,7,36,21,88]"
   ]
  },
  {
   "cell_type": "code",
   "execution_count": 15,
   "metadata": {},
   "outputs": [
    {
     "data": {
      "image/png": "[encoded data removed]",
      "text/plain": [
       "<Figure size 432x288 with 1 Axes>"
      ]
     },
     "metadata": {
      "needs_background": "light"
     },
     "output_type": "display_data"
    }
   ],
   "source": [
    "plt.plot(x,y)\n",
    "plt.plot(x,y3)\n",
    "plt.show()"
   ]
  },
  {
   "cell_type": "code",
   "execution_count": null,
   "metadata": {},
   "outputs": [],
   "source": []
  }
 ],
 "metadata": {
  "kernelspec": {
   "display_name": "Python 3",
   "language": "python",
   "name": "python3"
  },
  "language_info": {
   "codemirror_mode": {
    "name": "ipython",
    "version": 3
   },
   "file_extension": ".py",
   "mimetype": "text/x-python",
   "name": "python",
   "nbconvert_exporter": "python",
   "pygments_lexer": "ipython3",
   "version": "3.7.6"
  }
 },
 "nbformat": 4,
 "nbformat_minor": 4
}
